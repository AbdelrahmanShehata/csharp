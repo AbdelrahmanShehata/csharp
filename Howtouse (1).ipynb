{
 "cells": [
  {
   "cell_type": "code",
   "execution_count": 19,
   "id": "a420061f-bcf1-4be9-bbda-b2d15f43cf26",
   "metadata": {},
   "outputs": [
    {
     "name": "stdout",
     "output_type": "stream",
     "text": [
      "{'artists': {'href': 'https://api.spotify.com/v1/search?query=Adele&type=artist&offset=0&limit=20', 'items': [{'external_urls': {'spotify': 'https://open.spotify.com/artist/4dpARuHxo51G3z768sgnrY'}, 'followers': {'href': None, 'total': 51759584}, 'genres': ['british soul', 'pop', 'pop soul', 'uk pop'], 'href': 'https://api.spotify.com/v1/artists/4dpARuHxo51G3z768sgnrY', 'id': '4dpARuHxo51G3z768sgnrY', 'images': [{'height': 640, 'url': 'https://i.scdn.co/image/ab6761610000e5eb68f6e5892075d7f22615bd17', 'width': 640}, {'height': 320, 'url': 'https://i.scdn.co/image/ab6761610000517468f6e5892075d7f22615bd17', 'width': 320}, {'height': 160, 'url': 'https://i.scdn.co/image/ab6761610000f17868f6e5892075d7f22615bd17', 'width': 160}], 'name': 'Adele', 'popularity': 84, 'type': 'artist', 'uri': 'spotify:artist:4dpARuHxo51G3z768sgnrY'}, {'external_urls': {'spotify': 'https://open.spotify.com/artist/4ueh4hmRvt62k4BgP8dIS0'}, 'followers': {'href': None, 'total': 26398}, 'genres': [], 'href': 'https://api.spotify.com/v1/artists/4ueh4hmRvt62k4BgP8dIS0', 'id': '4ueh4hmRvt62k4BgP8dIS0', 'images': [{'height': 640, 'url': 'https://i.scdn.co/image/ab6761610000e5ebbe5c3d8505c21d6012e527a1', 'width': 640}, {'height': 320, 'url': 'https://i.scdn.co/image/ab67616100005174be5c3d8505c21d6012e527a1', 'width': 320}, {'height': 160, 'url': 'https://i.scdn.co/image/ab6761610000f178be5c3d8505c21d6012e527a1', 'width': 160}], 'name': 'Adèle Castillon', 'popularity': 59, 'type': 'artist', 'uri': 'spotify:artist:4ueh4hmRvt62k4BgP8dIS0'}, {'external_urls': {'spotify': 'https://open.spotify.com/artist/3TVXtAsR1Inumwj472S9r4'}, 'followers': {'href': None, 'total': 80466139}, 'genres': ['canadian hip hop', 'canadian pop', 'hip hop', 'pop rap', 'rap'], 'href': 'https://api.spotify.com/v1/artists/3TVXtAsR1Inumwj472S9r4', 'id': '3TVXtAsR1Inumwj472S9r4', 'images': [{'height': 640, 'url': 'https://i.scdn.co/image/ab6761610000e5eb4293385d324db8558179afd9', 'width': 640}, {'height': 320, 'url': 'https://i.scdn.co/image/ab676161000051744293385d324db8558179afd9', 'width': 320}, {'height': 160, 'url': 'https://i.scdn.co/image/ab6761610000f1784293385d324db8558179afd9', 'width': 160}], 'name': 'Drake', 'popularity': 95, 'type': 'artist', 'uri': 'spotify:artist:3TVXtAsR1Inumwj472S9r4'}, {'external_urls': {'spotify': 'https://open.spotify.com/artist/1z2GIqUV62qrl1J5sXalOT'}, 'followers': {'href': None, 'total': 1286}, 'genres': [], 'href': 'https://api.spotify.com/v1/artists/1z2GIqUV62qrl1J5sXalOT', 'id': '1z2GIqUV62qrl1J5sXalOT', 'images': [{'height': 640, 'url': 'https://i.scdn.co/image/ab67616d0000b2735c326be2a7f88db38ee409fa', 'width': 640}, {'height': 300, 'url': 'https://i.scdn.co/image/ab67616d00001e025c326be2a7f88db38ee409fa', 'width': 300}, {'height': 64, 'url': 'https://i.scdn.co/image/ab67616d000048515c326be2a7f88db38ee409fa', 'width': 64}], 'name': 'Adeleye Omotayo', 'popularity': 47, 'type': 'artist', 'uri': 'spotify:artist:1z2GIqUV62qrl1J5sXalOT'}, {'external_urls': {'spotify': 'https://open.spotify.com/artist/0Le4cOls5QDSc7WP5M2IOw'}, 'followers': {'href': None, 'total': 14178}, 'genres': ['coverchill', 'fake'], 'href': 'https://api.spotify.com/v1/artists/0Le4cOls5QDSc7WP5M2IOw', 'id': '0Le4cOls5QDSc7WP5M2IOw', 'images': [{'height': 640, 'url': 'https://i.scdn.co/image/ab6761610000e5ebd8151b81609f0aa4e22606ae', 'width': 640}, {'height': 320, 'url': 'https://i.scdn.co/image/ab67616100005174d8151b81609f0aa4e22606ae', 'width': 320}, {'height': 160, 'url': 'https://i.scdn.co/image/ab6761610000f178d8151b81609f0aa4e22606ae', 'width': 160}], 'name': 'Adelle', 'popularity': 47, 'type': 'artist', 'uri': 'spotify:artist:0Le4cOls5QDSc7WP5M2IOw'}, {'external_urls': {'spotify': 'https://open.spotify.com/artist/0a2ajcpx0sNtenVpRn7epd'}, 'followers': {'href': None, 'total': 12}, 'genres': [], 'href': 'https://api.spotify.com/v1/artists/0a2ajcpx0sNtenVpRn7epd', 'id': '0a2ajcpx0sNtenVpRn7epd', 'images': [{'height': 640, 'url': 'https://i.scdn.co/image/ab67616d0000b273cd993234f4bc69a453be5c37', 'width': 640}, {'height': 300, 'url': 'https://i.scdn.co/image/ab67616d00001e02cd993234f4bc69a453be5c37', 'width': 300}, {'height': 64, 'url': 'https://i.scdn.co/image/ab67616d00004851cd993234f4bc69a453be5c37', 'width': 64}], 'name': 'Adele Cavanaugh', 'popularity': 27, 'type': 'artist', 'uri': 'spotify:artist:0a2ajcpx0sNtenVpRn7epd'}, {'external_urls': {'spotify': 'https://open.spotify.com/artist/6Bp3tgTwoSZGKNAXEl0doW'}, 'followers': {'href': None, 'total': 2796}, 'genres': [], 'href': 'https://api.spotify.com/v1/artists/6Bp3tgTwoSZGKNAXEl0doW', 'id': '6Bp3tgTwoSZGKNAXEl0doW', 'images': [{'height': 640, 'url': 'https://i.scdn.co/image/ab67616d0000b273d1974af719095a3b11b5a8b8', 'width': 640}, {'height': 300, 'url': 'https://i.scdn.co/image/ab67616d00001e02d1974af719095a3b11b5a8b8', 'width': 300}, {'height': 64, 'url': 'https://i.scdn.co/image/ab67616d00004851d1974af719095a3b11b5a8b8', 'width': 64}], 'name': 'Adele', 'popularity': 14, 'type': 'artist', 'uri': 'spotify:artist:6Bp3tgTwoSZGKNAXEl0doW'}, {'external_urls': {'spotify': 'https://open.spotify.com/artist/6HZ5IH5ksF7cs4mg0HQlSN'}, 'followers': {'href': None, 'total': 1882}, 'genres': [], 'href': 'https://api.spotify.com/v1/artists/6HZ5IH5ksF7cs4mg0HQlSN', 'id': '6HZ5IH5ksF7cs4mg0HQlSN', 'images': [{'height': 640, 'url': 'https://i.scdn.co/image/ab67616d0000b273b1143947137daab96a02b102', 'width': 640}, {'height': 300, 'url': 'https://i.scdn.co/image/ab67616d00001e02b1143947137daab96a02b102', 'width': 300}, {'height': 64, 'url': 'https://i.scdn.co/image/ab67616d00004851b1143947137daab96a02b102', 'width': 64}], 'name': 'Adele Adkins', 'popularity': 28, 'type': 'artist', 'uri': 'spotify:artist:6HZ5IH5ksF7cs4mg0HQlSN'}, {'external_urls': {'spotify': 'https://open.spotify.com/artist/2vuiLlCZ3E92WtUVNM97t7'}, 'followers': {'href': None, 'total': 21}, 'genres': [], 'href': 'https://api.spotify.com/v1/artists/2vuiLlCZ3E92WtUVNM97t7', 'id': '2vuiLlCZ3E92WtUVNM97t7', 'images': [], 'name': 'Adèle', 'popularity': 6, 'type': 'artist', 'uri': 'spotify:artist:2vuiLlCZ3E92WtUVNM97t7'}, {'external_urls': {'spotify': 'https://open.spotify.com/artist/4AEv9RpfPAr67W04LqWLDb'}, 'followers': {'href': None, 'total': 668}, 'genres': ['bossbeat'], 'href': 'https://api.spotify.com/v1/artists/4AEv9RpfPAr67W04LqWLDb', 'id': '4AEv9RpfPAr67W04LqWLDb', 'images': [{'height': 640, 'url': 'https://i.scdn.co/image/ab67616d0000b2732bc16fc1dbc8250a88512a72', 'width': 640}, {'height': 300, 'url': 'https://i.scdn.co/image/ab67616d00001e022bc16fc1dbc8250a88512a72', 'width': 300}, {'height': 64, 'url': 'https://i.scdn.co/image/ab67616d000048512bc16fc1dbc8250a88512a72', 'width': 64}], 'name': 'Adele Roberts', 'popularity': 28, 'type': 'artist', 'uri': 'spotify:artist:4AEv9RpfPAr67W04LqWLDb'}, {'external_urls': {'spotify': 'https://open.spotify.com/artist/4eGEs8WIwrq0nSsPqDNf40'}, 'followers': {'href': None, 'total': 43}, 'genres': [], 'href': 'https://api.spotify.com/v1/artists/4eGEs8WIwrq0nSsPqDNf40', 'id': '4eGEs8WIwrq0nSsPqDNf40', 'images': [{'height': 640, 'url': 'https://i.scdn.co/image/ab67616d0000b2731c194671f0588ae8002a9230', 'width': 640}, {'height': 300, 'url': 'https://i.scdn.co/image/ab67616d00001e021c194671f0588ae8002a9230', 'width': 300}, {'height': 64, 'url': 'https://i.scdn.co/image/ab67616d000048511c194671f0588ae8002a9230', 'width': 64}], 'name': 'Adele', 'popularity': 0, 'type': 'artist', 'uri': 'spotify:artist:4eGEs8WIwrq0nSsPqDNf40'}, {'external_urls': {'spotify': 'https://open.spotify.com/artist/6uPcgNYRCMjaWzZ4N824zV'}, 'followers': {'href': None, 'total': 182}, 'genres': [], 'href': 'https://api.spotify.com/v1/artists/6uPcgNYRCMjaWzZ4N824zV', 'id': '6uPcgNYRCMjaWzZ4N824zV', 'images': [{'height': 640, 'url': 'https://i.scdn.co/image/ab6761610000e5ebe92cc30bf4182fa419c4fe8e', 'width': 640}, {'height': 320, 'url': 'https://i.scdn.co/image/ab67616100005174e92cc30bf4182fa419c4fe8e', 'width': 320}, {'height': 160, 'url': 'https://i.scdn.co/image/ab6761610000f178e92cc30bf4182fa419c4fe8e', 'width': 160}], 'name': 'adeleve', 'popularity': 12, 'type': 'artist', 'uri': 'spotify:artist:6uPcgNYRCMjaWzZ4N824zV'}, {'external_urls': {'spotify': 'https://open.spotify.com/artist/2qS6cYzM5ajhprcxQa1Ilc'}, 'followers': {'href': None, 'total': 42797}, 'genres': ['norwegian pop', 'scandipop'], 'href': 'https://api.spotify.com/v1/artists/2qS6cYzM5ajhprcxQa1Ilc', 'id': '2qS6cYzM5ajhprcxQa1Ilc', 'images': [{'height': 640, 'url': 'https://i.scdn.co/image/ab6761610000e5ebda739aad091d24b9b1bea93d', 'width': 640}, {'height': 320, 'url': 'https://i.scdn.co/image/ab67616100005174da739aad091d24b9b1bea93d', 'width': 320}, {'height': 160, 'url': 'https://i.scdn.co/image/ab6761610000f178da739aad091d24b9b1bea93d', 'width': 160}], 'name': 'Adelén', 'popularity': 34, 'type': 'artist', 'uri': 'spotify:artist:2qS6cYzM5ajhprcxQa1Ilc'}, {'external_urls': {'spotify': 'https://open.spotify.com/artist/5yUp79jSBSGdkbufl2hmcY'}, 'followers': {'href': None, 'total': 1037}, 'genres': ['violin'], 'href': 'https://api.spotify.com/v1/artists/5yUp79jSBSGdkbufl2hmcY', 'id': '5yUp79jSBSGdkbufl2hmcY', 'images': [{'height': 1000, 'url': 'https://i.scdn.co/image/f872ff81d488a571190f9e3ab162db15361f7060', 'width': 1000}, {'height': 640, 'url': 'https://i.scdn.co/image/cdc5a89e78fff546f1939e7dd68904bd061b36f9', 'width': 640}, {'height': 200, 'url': 'https://i.scdn.co/image/1edaaef2eaefbf2bfb6a530e5464e40e5f398819', 'width': 200}, {'height': 64, 'url': 'https://i.scdn.co/image/4cab46ac52af13c19ecf94b9b36197fc4c09e664', 'width': 64}], 'name': 'Adele Anthony', 'popularity': 18, 'type': 'artist', 'uri': 'spotify:artist:5yUp79jSBSGdkbufl2hmcY'}, {'external_urls': {'spotify': 'https://open.spotify.com/artist/1ZxfPXwVNFPWZHWs5EyGNB'}, 'followers': {'href': None, 'total': 197}, 'genres': [], 'href': 'https://api.spotify.com/v1/artists/1ZxfPXwVNFPWZHWs5EyGNB', 'id': '1ZxfPXwVNFPWZHWs5EyGNB', 'images': [{'height': 640, 'url': 'https://i.scdn.co/image/ab67616d0000b273d72706a73128667707a5f905', 'width': 640}, {'height': 300, 'url': 'https://i.scdn.co/image/ab67616d00001e02d72706a73128667707a5f905', 'width': 300}, {'height': 64, 'url': 'https://i.scdn.co/image/ab67616d00004851d72706a73128667707a5f905', 'width': 64}], 'name': 'Adele K', 'popularity': 20, 'type': 'artist', 'uri': 'spotify:artist:1ZxfPXwVNFPWZHWs5EyGNB'}, {'external_urls': {'spotify': 'https://open.spotify.com/artist/06wuY3VLVdOEyRLGGpHIqK'}, 'followers': {'href': None, 'total': 3560}, 'genres': [], 'href': 'https://api.spotify.com/v1/artists/06wuY3VLVdOEyRLGGpHIqK', 'id': '06wuY3VLVdOEyRLGGpHIqK', 'images': [{'height': 640, 'url': 'https://i.scdn.co/image/ab6761610000e5ebe6707b23b1236fb65580df26', 'width': 640}, {'height': 320, 'url': 'https://i.scdn.co/image/ab67616100005174e6707b23b1236fb65580df26', 'width': 320}, {'height': 160, 'url': 'https://i.scdn.co/image/ab6761610000f178e6707b23b1236fb65580df26', 'width': 160}], 'name': 'Adele Harley', 'popularity': 26, 'type': 'artist', 'uri': 'spotify:artist:06wuY3VLVdOEyRLGGpHIqK'}, {'external_urls': {'spotify': 'https://open.spotify.com/artist/4n7mCojJetMQjEurFkskaC'}, 'followers': {'href': None, 'total': 7}, 'genres': [], 'href': 'https://api.spotify.com/v1/artists/4n7mCojJetMQjEurFkskaC', 'id': '4n7mCojJetMQjEurFkskaC', 'images': [{'height': 640, 'url': 'https://i.scdn.co/image/ab67616d0000b273a5f99b559fa234b01eb5b3bc', 'width': 640}, {'height': 300, 'url': 'https://i.scdn.co/image/ab67616d00001e02a5f99b559fa234b01eb5b3bc', 'width': 300}, {'height': 64, 'url': 'https://i.scdn.co/image/ab67616d00004851a5f99b559fa234b01eb5b3bc', 'width': 64}], 'name': 'Adele Burns', 'popularity': 5, 'type': 'artist', 'uri': 'spotify:artist:4n7mCojJetMQjEurFkskaC'}, {'external_urls': {'spotify': 'https://open.spotify.com/artist/3GplTOPSucYalNTFob9hMX'}, 'followers': {'href': None, 'total': 0}, 'genres': [], 'href': 'https://api.spotify.com/v1/artists/3GplTOPSucYalNTFob9hMX', 'id': '3GplTOPSucYalNTFob9hMX', 'images': [{'height': 640, 'url': 'https://i.scdn.co/image/ab67616d0000b273dfe9f956092bbe84c1391a16', 'width': 640}, {'height': 300, 'url': 'https://i.scdn.co/image/ab67616d00001e02dfe9f956092bbe84c1391a16', 'width': 300}, {'height': 64, 'url': 'https://i.scdn.co/image/ab67616d00004851dfe9f956092bbe84c1391a16', 'width': 64}], 'name': 'Adele Coombes', 'popularity': 5, 'type': 'artist', 'uri': 'spotify:artist:3GplTOPSucYalNTFob9hMX'}, {'external_urls': {'spotify': 'https://open.spotify.com/artist/5LUvrEvwvS3svcVuRvrgc3'}, 'followers': {'href': None, 'total': 1}, 'genres': [], 'href': 'https://api.spotify.com/v1/artists/5LUvrEvwvS3svcVuRvrgc3', 'id': '5LUvrEvwvS3svcVuRvrgc3', 'images': [], 'name': 'Adèle Carlier', 'popularity': 19, 'type': 'artist', 'uri': 'spotify:artist:5LUvrEvwvS3svcVuRvrgc3'}, {'external_urls': {'spotify': 'https://open.spotify.com/artist/3NUj5kpx0s7ZKgVmN7Bm5i'}, 'followers': {'href': None, 'total': 14}, 'genres': [], 'href': 'https://api.spotify.com/v1/artists/3NUj5kpx0s7ZKgVmN7Bm5i', 'id': '3NUj5kpx0s7ZKgVmN7Bm5i', 'images': [{'height': 640, 'url': 'https://i.scdn.co/image/ab67616d0000b2738a8c4c8eb78eca10bf225ede', 'width': 640}, {'height': 300, 'url': 'https://i.scdn.co/image/ab67616d00001e028a8c4c8eb78eca10bf225ede', 'width': 300}, {'height': 64, 'url': 'https://i.scdn.co/image/ab67616d000048518a8c4c8eb78eca10bf225ede', 'width': 64}], 'name': 'Adele Classics', 'popularity': 4, 'type': 'artist', 'uri': 'spotify:artist:3NUj5kpx0s7ZKgVmN7Bm5i'}], 'limit': 20, 'next': 'https://api.spotify.com/v1/search?query=Adele&type=artist&offset=20&limit=20', 'offset': 0, 'previous': None, 'total': 24}}\n"
     ]
    }
   ],
   "source": [
    "import requests\n",
    "import base64\n",
    "\n",
    "# Step 1: Set your client id, client secret, and redirect uri\n",
    "CLIENT_ID = '6b7e2e58b62d4010a958a1f14c3a2319'\n",
    "CLIENT_SECRET = 'fcffd00829104392be509b4531c95c5d'\n",
    "REDIRECT_URI = 'http://localhost:8880/callback'\n",
    "\n",
    "# Step 2: Get the access token\n",
    "def get_access_token():\n",
    "    auth_header = base64.b64encode(f\"{CLIENT_ID}:{CLIENT_SECRET}\".encode('utf-8')).decode('utf-8')\n",
    "    response = requests.post(\"https://accounts.spotify.com/api/token\", data={\n",
    "        'grant_type': 'client_credentials'\n",
    "    }, headers={\n",
    "        \"Authorization\": f\"Basic {auth_header}\"\n",
    "    })\n",
    "    return response.json()[\"access_token\"]\n",
    "\n",
    "# Step 3: Use the access token to make requests\n",
    "def get_artist_info(artist_name):\n",
    "    token = get_access_token()\n",
    "    response = requests.get(f\"https://api.spotify.com/v1/search?q={artist_name}&type=artist\", headers={\n",
    "        \"Authorization\": f\"Bearer {token}\"\n",
    "    })\n",
    "    return response.json()\n",
    "\n",
    "# Example usage:\n",
    "artist_info = get_artist_info(\"Adele\")\n",
    "print(artist_info)\n"
   ]
  },
  {
   "cell_type": "code",
   "execution_count": 1,
   "id": "dabcdbed-6297-4142-abaa-6189a40f5336",
   "metadata": {},
   "outputs": [
    {
     "name": "stdout",
     "output_type": "stream",
     "text": [
      "Requirement already satisfied: requests in /opt/conda/lib/python3.9/site-packages (2.26.0)\n",
      "Requirement already satisfied: charset-normalizer~=2.0.0 in /opt/conda/lib/python3.9/site-packages (from requests) (2.0.9)\n",
      "Requirement already satisfied: idna<4,>=2.5 in /opt/conda/lib/python3.9/site-packages (from requests) (3.1)\n",
      "Requirement already satisfied: certifi>=2017.4.17 in /opt/conda/lib/python3.9/site-packages (from requests) (2022.9.24)\n",
      "Requirement already satisfied: urllib3<1.27,>=1.21.1 in /opt/conda/lib/python3.9/site-packages (from requests) (1.26.7)\n",
      "Note: you may need to restart the kernel to use updated packages.\n"
     ]
    }
   ],
   "source": []
  },
  {
   "cell_type": "markdown",
   "id": "0c478d98-eb23-499c-a421-d6df7fa49a26",
   "metadata": {},
   "source": [
    "The URL the user will go to give us info is below. This is just for beta and closed development.When the user gives us their info they will be met with localhost can't be connected to or something along the lines. For now the link is code= whatever in the url, you can copy and paste it. In the future when we get our own url, we will be able to have a function that just grabs the code without us interfering (callback function). The access token lasts fo"
   ]
  },
  {
   "cell_type": "markdown",
   "id": "252e35b4-467b-4196-a791-83df8a8c9520",
   "metadata": {},
   "source": [
    "https://accounts.spotify.com/en/authorize?client_id=6b7e2e58b62d4010a958a1f14c3a2319&response_type=code&redirect_uri=http://localhost:8880/callback&scope=user-top-read%20user-read-private%20playlist-read-private"
   ]
  },
  {
   "cell_type": "code",
   "execution_count": 47,
   "id": "0f85f4cb-7949-4164-9fdb-115cd31cc33b",
   "metadata": {},
   "outputs": [],
   "source": [
    "import requests\n",
    "import base64\n",
    "\n",
    "def get_access_token_from_code(auth_code):\n",
    "    auth_header = base64.b64encode(f\"{CLIENT_ID}:{CLIENT_SECRET}\".encode('utf-8')).decode('utf-8')\n",
    "    response = requests.post(\"https://accounts.spotify.com/api/token\", data={\n",
    "        'grant_type': 'authorization_code',\n",
    "        'code': auth_code,\n",
    "        'redirect_uri': REDIRECT_URI\n",
    "    }, headers={\n",
    "        \"Authorization\": f\"Basic {auth_header}\"\n",
    "    })\n",
    "    return response.json().get(\"access_token\"), response.json().get(\"refresh_token\")\n",
    "\n",
    "def refresh_access_token(refresh_token):\n",
    "    auth_header = base64.b64encode(f\"{CLIENT_ID}:{CLIENT_SECRET}\".encode('utf-8')).decode('utf-8')\n",
    "    response = requests.post(\"https://accounts.spotify.com/api/token\", data={\n",
    "        'grant_type': 'refresh_token',\n",
    "        'refresh_token': refresh_token\n",
    "    }, headers={\n",
    "        \"Authorization\": f\"Basic {auth_header}\"\n",
    "    })\n",
    "    return response.json().get(\"access_token\")\n",
    "CLIENT_ID = '6b7e2e58b62d4010a958a1f14c3a2319'\n",
    "CLIENT_SECRET = 'fcffd00829104392be509b4531c95c5d'\n",
    "REDIRECT_URI = 'http://localhost:8880/callback'\n",
    "AUTHORIZATION_CODE = 'AQBh8zaBoxDPZdWa8AG7nVo5qY4WBq98zbw0of9cp9u5O_tlQy65XJwWyMxMgQjATx4_QAC263CMtkoddVu2UFSCcab3wcpuN2HmthbRxl9Zd25hjI08xGZHlB4HDVag_T60jv9JDPYdgpQJPgak8bzlB6h4-YYPVPrsAiJnh1praIJx1DkyOLnmsCNNlJFeT_eU7V07GilH54aLm1sWXQaEloBUjd0JA0_gmOMS5bZ6BnMGZrV1DPDNqA'\n",
    "\n",
    "access_token, refresh_token = get_access_token_from_code(AUTHORIZATION_CODE)\n",
    "headers = {\n",
    "    \"Authorization\": f\"Bearer {access_token}\"\n",
    "}\n",
    "\n",
    "\n",
    "\n"
   ]
  },
  {
   "cell_type": "code",
   "execution_count": 54,
   "id": "7e58cc8a-d8c4-49d6-9b4a-0016fd7100e4",
   "metadata": {},
   "outputs": [
    {
     "name": "stdout",
     "output_type": "stream",
     "text": [
      "Very Few Friends\n",
      "4K\n",
      "I Guess\n",
      "FaceTime\n",
      "vampire\n",
      "The Homie\n",
      "Homiesexual (with Ty Dolla $ign)\n",
      "Tomorrow 2 (with Cardi B)\n",
      "Nasty Remix ft Saint Levant\n",
      "honda civic '98\n",
      "From Gaza, With Love\n",
      "too far close\n",
      "Missing - Todd Terry Club Mix\n",
      "P power (feat. Drake)\n",
      "The Vampire Conspiracy\n",
      "Mirage\n",
      "drunk text me\n",
      "Don't Forget About Me\n",
      "Nails\n",
      "Lovefool\n",
      "i don't wanna fall in love, it's too late now\n",
      "Put Your Records On\n",
      "Killing Us Slowly\n",
      "The Color Violet\n",
      "2hrs\n",
      "Lick Or Sum\n",
      "F.N.F. (Let's Go)\n",
      "Black Leaves\n",
      "Dead To Me\n",
      "want/need\n",
      "(If Loving You Is Wrong) I Don't Want to Be Right\n",
      "Fast Car\n",
      "Eye to Eye\n",
      "Endless No Mores - A COLORS SHOW\n",
      "From The Start\n",
      "Break from Toronto\n",
      "Kiss U Right Now\n",
      "Clouded\n",
      "Sorrows\n",
      "Thought It Was a Drought\n",
      "Ya Ghayeb\n",
      "I Wish you Roses\n",
      "Cheap Date\n",
      "Sure Thing\n",
      "Polaris\n",
      "4 letters\n",
      "Please Do Not Lean (feat. BADBADNOTGOOD) - Bonus\n",
      "Washing Machine Heart\n",
      "want me\n",
      "Between The Lines\n"
     ]
    }
   ],
   "source": [
    "\n",
    "# If the token has expired\n",
    "if response.status_code == 401:\n",
    "    access_token = refresh_access_token(refresh_token)\n",
    "    headers[\"Authorization\"] = f\"Bearer {access_token}\"\n",
    "    response = requests.get(\"https://api.spotify.com/v1/me/top/tracks?time_range=medium_term&limit=30\", headers=headers)\n",
    "\n",
    "top_tracks = response.json()\n",
    "for track in top_tracks['items']:\n",
    "    print(track['name'])\n"
   ]
  },
  {
   "cell_type": "code",
   "execution_count": 49,
   "id": "a90eb091-f501-4653-a1f7-14041299569c",
   "metadata": {},
   "outputs": [
    {
     "name": "stdout",
     "output_type": "stream",
     "text": [
      "BQD5HrCWKi8AAxI2_sd3urVAqSzWGt5LhlrawQlSsplk2DJq3Esb3DT-vH9j9Y2kxsLHX5frjCchOAGlb5E3tINTVirUKS6S24M9GDWHYwBOTI2syHyBtxxUr2I3GjAcOGFn7eukuej4Mug0ZvkRzpuC8PVyzqJakSDYWwx-RcPCbXvQSjRzpenM6dTw0wkcT9gTxtAbu6yvcodgsZFprFo577jTitFUV1A\n"
     ]
    }
   ],
   "source": []
  },
  {
   "cell_type": "code",
   "execution_count": null,
   "id": "177ed975-37b4-40f6-80e6-f701d9ab570e",
   "metadata": {},
   "outputs": [],
   "source": []
  }
 ],
 "metadata": {
  "kernelspec": {
   "display_name": "Python 3 (ipykernel)",
   "language": "python",
   "name": "python3"
  },
  "language_info": {
   "codemirror_mode": {
    "name": "ipython",
    "version": 3
   },
   "file_extension": ".py",
   "mimetype": "text/x-python",
   "name": "python",
   "nbconvert_exporter": "python",
   "pygments_lexer": "ipython3",
   "version": "3.9.7"
  }
 },
 "nbformat": 4,
 "nbformat_minor": 5
}
